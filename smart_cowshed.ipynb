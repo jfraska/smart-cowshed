{
  "nbformat": 4,
  "nbformat_minor": 0,
  "metadata": {
    "colab": {
      "provenance": [],
      "authorship_tag": "ABX9TyM3UHg33tW1d6EutjehACJE",
      "include_colab_link": true
    },
    "kernelspec": {
      "name": "python3",
      "display_name": "Python 3"
    },
    "language_info": {
      "name": "python"
    }
  },
  "cells": [
    {
      "cell_type": "markdown",
      "metadata": {
        "id": "view-in-github",
        "colab_type": "text"
      },
      "source": [
        "<a href=\"https://colab.research.google.com/github/jfraska/smart-cowshed/blob/master/smart_cowshed.ipynb\" target=\"_parent\"><img src=\"https://colab.research.google.com/assets/colab-badge.svg\" alt=\"Open In Colab\"/></a>"
      ]
    },
    {
      "cell_type": "code",
      "execution_count": 1,
      "metadata": {
        "id": "zksdgl-ijBSf",
        "outputId": "d18ec035-2a80-4034-db35-f9242fa295f0",
        "colab": {
          "base_uri": "https://localhost:8080/"
        }
      },
      "outputs": [
        {
          "output_type": "stream",
          "name": "stdout",
          "text": [
            "modules loaded\n"
          ]
        }
      ],
      "source": [
        "# import system libs\n",
        "import os\n",
        "import time\n",
        "import shutil\n",
        "import itertools\n",
        "\n",
        "# import data handling tools\n",
        "import cv2\n",
        "import numpy as np\n",
        "import pandas as pd\n",
        "import seaborn as sns\n",
        "sns.set_style('darkgrid')\n",
        "import matplotlib.pyplot as plt\n",
        "\n",
        "# import Deep learning Libraries\n",
        "import tensorflow as tf\n",
        "from tensorflow import keras\n",
        "from sklearn.metrics import confusion_matrix, classification_report\n",
        "from tensorflow.keras.preprocessing.image import ImageDataGenerator\n",
        "from skimage import io\n",
        "from PIL import Image\n",
        "import random\n",
        "from shutil import copyfile\n",
        "\n",
        "# Ignore Warnings\n",
        "import warnings\n",
        "warnings.filterwarnings(\"ignore\")\n",
        "\n",
        "print ('modules loaded')"
      ]
    },
    {
      "cell_type": "code",
      "source": [
        "# Get dataset\n",
        "os.environ['KAGGLE_USERNAME'] = \"alifianzulfaani\"\n",
        "os.environ['KAGGLE_KEY'] = \"4b8aa99d8f0cfab2b85c684ad6864489\"\n",
        "!kaggle datasets download -d alifianzulfaani/new-cowshed-dataset\n",
        "\n",
        "# Extract dataset\n",
        "from zipfile import ZipFile\n",
        "file_name = \"/content/new-cowshed-dataset.zip\"\n",
        "zp = ZipFile(file_name, 'r')\n",
        "zp.extractall(path='/content/')\n",
        "print('done')"
      ],
      "metadata": {
        "id": "v3o68ynklDwQ"
      },
      "execution_count": null,
      "outputs": []
    }
  ]
}